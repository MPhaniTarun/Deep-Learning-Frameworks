{
 "cells": [
  {
   "cell_type": "code",
   "execution_count": 4,
   "id": "343fea09-ecfd-4920-bad8-7715b49fb744",
   "metadata": {},
   "outputs": [],
   "source": [
    "import torch\n",
    "import torchvision\n",
    "import torch.nn as nn\n",
    "import numpy as np\n",
    "import matplotlib.pyplot as plt"
   ]
  },
  {
   "cell_type": "code",
   "execution_count": 5,
   "id": "40ce314c-698f-46d8-81d6-2c38d3828822",
   "metadata": {},
   "outputs": [],
   "source": [
    "# Create some \"Matrices\" as lists of lists  \n",
    "\n",
    "# 3x3\n",
    "W = [[1, 1, 1],\n",
    "     [1.5, 1.5, 1.5],\n",
    "     [2, 2, 2]]\n",
    "\n",
    "# 3x1\n",
    "x = [[6], [7], [8]]\n",
    "# 3x1\n",
    "b = [[1], [1], [1]]\n",
    "\n",
    "# Variable to store output\n",
    "# 3x1\n",
    "y = [[0], [0], [0]]"
   ]
  },
  {
   "cell_type": "code",
   "execution_count": 6,
   "id": "cfd43db5-0946-48f4-ba44-0ac0d888f8fc",
   "metadata": {},
   "outputs": [
    {
     "name": "stdout",
     "output_type": "stream",
     "text": [
      "Output:\n",
      " [[22. ]\n",
      " [32.5]\n",
      " [43. ]]\n",
      "Output shape:\n",
      " (3, 1)\n"
     ]
    }
   ],
   "source": [
    "\n",
    "# We can transform our list of lists into a \"numpy array\" by using the function \"array\"\n",
    "W_np = np.array(W)\n",
    "\n",
    "x_np = np.array(x)\n",
    "\n",
    "# Lets use the function \"ones\" to create an array of ones!\n",
    "b_np = np.ones((3, 1))\n",
    "\n",
    "# Lets now compute Wx + b using these numpy variables!\n",
    "output = np.matmul(W_np, x_np) + b_np\n",
    "\n",
    "# Print out the result\n",
    "print(\"Output:\\n\", output)\n",
    "print(\"Output shape:\\n\", output.shape)"
   ]
  },
  {
   "cell_type": "code",
   "execution_count": 7,
   "id": "e3f23d38-d776-4469-b756-19c60821e183",
   "metadata": {},
   "outputs": [
    {
     "name": "stdout",
     "output_type": "stream",
     "text": [
      "Output:\n",
      " tensor([[22.0000],\n",
      "        [32.5000],\n",
      "        [43.0000]])\n",
      "Output shape:\n",
      " torch.Size([3, 1])\n"
     ]
    }
   ],
   "source": [
    "# We can transform our list of lists into a \"torch tensor\" by using the function \"FloatTensor\"\n",
    "# Note: here we've specified the datatype of the tensor, a 32bit \"float\" you can also just use the function \"tensor\"\n",
    "# But this will inherit the datatype of the array given, to ensure the data-types are the same\n",
    "# (and we can perform the wanted operations) we use \"FloatTensor\"\n",
    "\n",
    "W_torch = torch.FloatTensor(W)\n",
    "\n",
    "x_torch = torch.FloatTensor(x)\n",
    "\n",
    "# Lets use the function \"ones\" to create an array of ones!\n",
    "b_torch = torch.ones(3, 1)\n",
    "\n",
    "# Lets now compute Wx + b using these numpy variables!\n",
    "output = torch.matmul(W_torch, x_torch) + b_torch\n",
    "\n",
    "# Print out the result\n",
    "print(\"Output:\\n\", output)\n",
    "print(\"Output shape:\\n\", output.shape)"
   ]
  },
  {
   "cell_type": "code",
   "execution_count": 8,
   "id": "b2b5934c-f8f4-40cf-a897-dc2b721f71d7",
   "metadata": {},
   "outputs": [
    {
     "name": "stdout",
     "output_type": "stream",
     "text": [
      "Numpy array:\n",
      " [[0.3537294  0.71152442 0.82778637 0.81412117]\n",
      " [0.66339122 0.16354646 0.04027069 0.28005309]\n",
      " [0.16057774 0.79266707 0.44760194 0.81403355]]\n",
      "Pytorch tensor:\n",
      " tensor([[0.3537, 0.7115, 0.8278, 0.8141],\n",
      "        [0.6634, 0.1635, 0.0403, 0.2801],\n",
      "        [0.1606, 0.7927, 0.4476, 0.8140]])\n",
      "Numpy array:\n",
      " [[0.3537294  0.7115244  0.8277864  0.8141212 ]\n",
      " [0.66339123 0.16354646 0.04027069 0.28005308]\n",
      " [0.16057774 0.7926671  0.44760194 0.81403357]]\n"
     ]
    }
   ],
   "source": [
    "# Create a random Numpy array\n",
    "np_array = np.random.random((3, 4))\n",
    "print(\"Numpy array:\\n\", np_array)\n",
    "\n",
    "# Convert to Pytorch tensor\n",
    "torch_tensor = torch.FloatTensor(np_array)\n",
    "print(\"Pytorch tensor:\\n\", torch_tensor)\n",
    "\n",
    "# Convert back to a Numpy array!\n",
    "np_array2 = torch_tensor.numpy()\n",
    "print(\"Numpy array:\\n\", np_array2)"
   ]
  },
  {
   "cell_type": "code",
   "execution_count": 9,
   "id": "485b23c6-ba9d-42e6-bd90-37abc0cc2a00",
   "metadata": {},
   "outputs": [
    {
     "name": "stdout",
     "output_type": "stream",
     "text": [
      "Our 1D Tensor:\n",
      " tensor([[0.2675, 0.5226, 0.8781, 0.8870, 0.6873],\n",
      "        [0.0295, 0.2813, 0.9587, 0.5658, 0.1330],\n",
      "        [0.0601, 0.7039, 0.9100, 0.5364, 0.6844],\n",
      "        [0.1569, 0.2699, 0.7844, 0.5170, 0.6200]])\n",
      "\n",
      "Scalar Multiplication:\n",
      " tensor([[2.6753, 5.2262, 8.7811, 8.8695, 6.8730],\n",
      "        [0.2954, 2.8131, 9.5865, 5.6578, 1.3300],\n",
      "        [0.6011, 7.0388, 9.1000, 5.3642, 6.8436],\n",
      "        [1.5689, 2.6989, 7.8440, 5.1704, 6.1999]])\n",
      "Addition and Square:\n",
      " tensor([[1.6066, 2.3184, 3.5273, 3.5606, 2.8470],\n",
      "        [1.0599, 1.6417, 3.8363, 2.4517, 1.2837],\n",
      "        [1.1238, 2.9032, 3.6481, 2.3606, 2.8371],\n",
      "        [1.3384, 1.6126, 3.1841, 2.3014, 2.6244]])\n",
      "Addition:\n",
      " tensor([[0.5351, 1.0452, 1.7562, 1.7739, 1.3746],\n",
      "        [0.0591, 0.5626, 1.9173, 1.1316, 0.2660],\n",
      "        [0.1202, 1.4078, 1.8200, 1.0728, 1.3687],\n",
      "        [0.3138, 0.5398, 1.5688, 1.0341, 1.2400]])\n",
      "Addition and division:\n",
      " tensor([[0.2111, 0.3432, 0.4675, 0.4700, 0.4073],\n",
      "        [0.0287, 0.2195, 0.4894, 0.3613, 0.1174],\n",
      "        [0.0567, 0.4131, 0.4764, 0.3491, 0.4063],\n",
      "        [0.1356, 0.2125, 0.4396, 0.3408, 0.3827]])\n",
      "\n",
      "Power and square root:\n",
      " tensor([[0.2675, 0.5226, 0.8781, 0.8870, 0.6873],\n",
      "        [0.0295, 0.2813, 0.9587, 0.5658, 0.1330],\n",
      "        [0.0601, 0.7039, 0.9100, 0.5364, 0.6844],\n",
      "        [0.1569, 0.2699, 0.7844, 0.5170, 0.6200]])\n",
      "\n",
      "Y -\n",
      " Min:0.03\n",
      " Max:0.96\n",
      " Standard Deviation:0.30\n",
      " Sum:10.45\n"
     ]
    }
   ],
   "source": [
    "# Basic Element-wise Operations\n",
    "# Lets create a 2D Tensor using torch.rand\n",
    "y = torch.rand(4, 5)\n",
    "# This will create a \"Vector\" of numbers from 0 to 1\n",
    "print(\"Our 1D Tensor:\\n\",y)\n",
    "\n",
    "# We can perform normal python scalar arithmetic on Torch tensors\n",
    "print(\"\\nScalar Multiplication:\\n\",y * 10)\n",
    "print(\"Addition and Square:\\n\",(y + 1)**2)\n",
    "print(\"Addition:\\n\",y + y)\n",
    "print(\"Addition and division:\\n\",y / (y + 1))\n",
    "\n",
    "# We can use a combination of Torch functions and normal python arithmetic\n",
    "print(\"\\nPower and square root:\\n\",torch.sqrt(y**2))\n",
    "\n",
    "# Torch tensors are objects and have functions\n",
    "print(\"\\nY -\\n Min:%.2f\\n Max:%.2f\\n Standard Deviation:%.2f\\n Sum:%.2f\" %(y.min(), y.max(), y.std(), y.sum()))"
   ]
  },
  {
   "cell_type": "code",
   "execution_count": 10,
   "id": "d7d494ff-c3bf-437b-aab7-6e5ebbcb1a64",
   "metadata": {},
   "outputs": [
    {
     "name": "stdout",
     "output_type": "stream",
     "text": [
      "Addition:\n",
      " tensor([[[0.3408, 1.1488, 0.7110],\n",
      "         [0.2396, 1.7706, 1.5186],\n",
      "         [1.3399, 1.1957, 0.4048]],\n",
      "\n",
      "        [[1.3398, 1.3804, 0.5781],\n",
      "         [1.0531, 1.2164, 0.9232],\n",
      "         [0.3832, 1.1252, 1.6176]],\n",
      "\n",
      "        [[0.3931, 1.0821, 1.5333],\n",
      "         [1.3804, 0.6259, 0.1964],\n",
      "         [1.4544, 0.7574, 1.2584]]])\n",
      "Batch Multiplication:\n",
      " tensor([[[0.1919, 0.5555, 0.4599],\n",
      "         [0.8643, 1.1573, 0.8020],\n",
      "         [0.4771, 1.0779, 0.8484]],\n",
      "\n",
      "        [[0.8452, 0.8823, 0.3923],\n",
      "         [0.7018, 0.6630, 0.7337],\n",
      "         [1.1549, 1.0467, 0.7587]],\n",
      "\n",
      "        [[1.5333, 0.8096, 0.5445],\n",
      "         [0.1669, 0.2665, 0.3470],\n",
      "         [1.3431, 0.7492, 0.6367]]])\n"
     ]
    }
   ],
   "source": [
    "# Create two 3D Tensors\n",
    "tensor_1 = torch.rand(3,3,3)\n",
    "tensor_2 = torch.rand(3,3,3)\n",
    "\n",
    "# Add the 2 Tensors\n",
    "print(\"Addition:\\n\",tensor_1 + tensor_2)\n",
    "\n",
    "# We cannot perform a normal \"matrix\" multiplication on a 3D tensor\n",
    "# But we can treat the 3D tensor as a \"batch\" (like a stack) of 2D tensors\n",
    "# And perform normal matrix multiplication independantly on each pair of 2D matricies\n",
    "print(\"Batch Multiplication:\\n\", torch.bmm(tensor_1, tensor_2))\n"
   ]
  },
  {
   "cell_type": "code",
   "execution_count": 11,
   "id": "8b72021c-5442-47ad-b5e3-80386f876d09",
   "metadata": {},
   "outputs": [
    {
     "name": "stdout",
     "output_type": "stream",
     "text": [
      "\n",
      "The origional Tensor is is:\n",
      " tensor([[[0.2144, 0.9636, 0.5846, 0.4284, 0.6305],\n",
      "         [0.6469, 0.0973, 0.8718, 0.3437, 0.2745],\n",
      "         [0.6481, 0.6191, 0.9476, 0.7090, 0.6015],\n",
      "         [0.5742, 0.0524, 0.2615, 0.2877, 0.9264]],\n",
      "\n",
      "        [[0.5667, 0.6863, 0.4323, 0.6906, 0.0386],\n",
      "         [0.7086, 0.5197, 0.4632, 0.0166, 0.0301],\n",
      "         [0.9270, 0.5743, 0.9607, 0.5106, 0.5698],\n",
      "         [0.3739, 0.7598, 0.0287, 0.4994, 0.3423]]])\n",
      "With shape:\n",
      " torch.Size([2, 4, 5])\n",
      "The Re-arranged is:\n",
      " tensor([[[0.2144, 0.5667],\n",
      "         [0.6469, 0.7086],\n",
      "         [0.6481, 0.9270],\n",
      "         [0.5742, 0.3739]],\n",
      "\n",
      "        [[0.9636, 0.6863],\n",
      "         [0.0973, 0.5197],\n",
      "         [0.6191, 0.5743],\n",
      "         [0.0524, 0.7598]],\n",
      "\n",
      "        [[0.5846, 0.4323],\n",
      "         [0.8718, 0.4632],\n",
      "         [0.9476, 0.9607],\n",
      "         [0.2615, 0.0287]],\n",
      "\n",
      "        [[0.4284, 0.6906],\n",
      "         [0.3437, 0.0166],\n",
      "         [0.7090, 0.5106],\n",
      "         [0.2877, 0.4994]],\n",
      "\n",
      "        [[0.6305, 0.0386],\n",
      "         [0.2745, 0.0301],\n",
      "         [0.6015, 0.5698],\n",
      "         [0.9264, 0.3423]]])\n",
      "With shape:\n",
      " torch.Size([5, 4, 2])\n"
     ]
    }
   ],
   "source": [
    "# Lets create a more interesting tensor\n",
    "tensor_3 = torch.rand(2,4,5)\n",
    "# We can swap the Tensor dimensions\n",
    "print(\"\\nThe origional Tensor is is:\\n\", tensor_3)\n",
    "print(\"With shape:\\n\", tensor_3.shape)\n",
    "\n",
    "# Tranpose will swap the dimensions it is given\n",
    "print(\"The Re-arranged is:\\n\", tensor_3.transpose(0,2))\n",
    "print(\"With shape:\\n\", tensor_3.transpose(0,2).shape)"
   ]
  },
  {
   "cell_type": "code",
   "execution_count": 12,
   "id": "c480b391-915f-4ab1-b66f-49304a3f2724",
   "metadata": {},
   "outputs": [
    {
     "name": "stdout",
     "output_type": "stream",
     "text": [
      "Our Tensor:\n",
      " tensor([[[[0.4126, 0.4900, 0.0955, 0.6766]],\n",
      "\n",
      "         [[0.9190, 0.3815, 0.8305, 0.7487]],\n",
      "\n",
      "         [[0.7080, 0.5231, 0.6801, 0.8069]]],\n",
      "\n",
      "\n",
      "        [[[0.8736, 0.7311, 0.0361, 0.7211]],\n",
      "\n",
      "         [[0.9259, 0.9371, 0.4182, 0.2036]],\n",
      "\n",
      "         [[0.3443, 0.4289, 0.0386, 0.7876]]]])\n",
      "\n",
      "The last element of dim0:\n",
      " tensor([[[0.8736, 0.7311, 0.0361, 0.7211]],\n",
      "\n",
      "        [[0.9259, 0.9371, 0.4182, 0.2036]],\n",
      "\n",
      "        [[0.3443, 0.4289, 0.0386, 0.7876]]])\n",
      "\n",
      "Indexed elements:\n",
      " tensor([[0.9190, 0.3815, 0.8305, 0.7487]])\n",
      "\n",
      "Indexed elements:\n",
      " tensor([0.8305, 0.4182])\n"
     ]
    }
   ],
   "source": [
    "# Indexing\n",
    "# Create a 4D Tensor\n",
    "tensor = torch.rand(2,3,1,4)\n",
    "print(\"Our Tensor:\\n\",tensor)\n",
    "\n",
    "# Select the last element of dim0\n",
    "print(\"\\nThe last element of dim0:\\n\",tensor[-1])\n",
    "\n",
    "# 1st element of dim0\n",
    "# 2nd element of dim1\n",
    "print(\"\\nIndexed elements:\\n\",tensor[0, 1])\n",
    " \n",
    "# Select all elements of dim0\n",
    "# The 2nd element of dim1\n",
    "# The 1st element of dim2\n",
    "# The 3rd element of dim3\n",
    "print(\"\\nIndexed elements:\\n\",tensor[:, 1, 0, 2])"
   ]
  },
  {
   "cell_type": "code",
   "execution_count": 13,
   "id": "ebcfe6ea-07ea-4713-be99-c95730c686df",
   "metadata": {},
   "outputs": [
    {
     "name": "stdout",
     "output_type": "stream",
     "text": [
      "The Tensor's shape is: torch.Size([3, 5, 3, 2])\n",
      "The Tensor's shape using size() is: torch.Size([3, 5, 3, 2])\n",
      "There are 90 elements in total:\n",
      "There are 4 Dimensions\n"
     ]
    }
   ],
   "source": [
    "# Lets create a large 4D Tensor\n",
    "tensor = torch.rand(3, 5, 3, 2)\n",
    "\n",
    "# View the Number of elements in every dimension\n",
    "print(\"The Tensor's shape is:\", tensor.shape)\n",
    "\n",
    "# In Pytorch shape and size() do the same thing!\n",
    "print(\"The Tensor's shape using size() is:\", tensor.size())\n",
    "\n",
    "# View the number of elements in total\n",
    "print(\"There are %d elements in total:\" % tensor.numel())\n",
    "\n",
    "# View the number of Dimensions\n",
    "print(\"There are %d Dimensions\" %(tensor.ndim))"
   ]
  },
  {
   "cell_type": "code",
   "execution_count": 14,
   "id": "107bd24b-8245-436c-9730-97a10e33f012",
   "metadata": {},
   "outputs": [
    {
     "name": "stdout",
     "output_type": "stream",
     "text": [
      "Reshape to 3x30:\n",
      " tensor([[2.6052e-01, 6.9477e-01, 7.5352e-01, 3.3371e-01, 4.2081e-01, 3.1598e-01,\n",
      "         4.8460e-01, 9.2172e-01, 3.7437e-01, 1.3929e-01, 8.7723e-01, 4.1525e-01,\n",
      "         8.2978e-01, 9.1519e-01, 4.5838e-01, 7.8849e-01, 7.7210e-01, 2.1204e-01,\n",
      "         9.6567e-01, 9.9872e-01, 1.4935e-01, 5.1135e-01, 8.8839e-01, 1.6857e-01,\n",
      "         9.8496e-01, 7.7818e-01, 9.9300e-01, 7.5388e-01, 2.3567e-01, 9.7865e-01],\n",
      "        [8.8870e-01, 7.7731e-01, 1.3433e-01, 7.5267e-01, 1.3775e-01, 2.2996e-02,\n",
      "         3.1754e-01, 3.6413e-01, 9.5845e-01, 3.4390e-01, 4.1056e-01, 6.2788e-01,\n",
      "         5.2816e-01, 1.8791e-02, 6.0035e-01, 9.0923e-01, 9.6716e-01, 8.2876e-01,\n",
      "         5.3624e-01, 7.9812e-01, 5.0762e-02, 7.4318e-01, 2.1792e-01, 7.5512e-01,\n",
      "         1.0040e-01, 4.3726e-01, 9.5294e-01, 7.9368e-01, 9.5970e-01, 9.5955e-01],\n",
      "        [3.9142e-04, 4.6541e-01, 1.0877e-01, 5.2054e-01, 1.0760e-01, 4.2016e-01,\n",
      "         5.7380e-01, 9.9533e-01, 6.2177e-01, 7.1683e-01, 2.6995e-01, 8.1672e-01,\n",
      "         5.3155e-01, 2.8122e-01, 9.5469e-01, 5.3413e-01, 6.7021e-01, 2.3819e-01,\n",
      "         9.0531e-01, 1.7485e-01, 1.1243e-01, 9.2049e-01, 3.2639e-01, 5.3326e-01,\n",
      "         9.2703e-01, 7.5391e-01, 6.2250e-01, 8.6631e-01, 9.5143e-01, 2.8460e-01]])\n",
      "Flatten to a 1D Tensor:\n",
      " tensor([2.6052e-01, 6.9477e-01, 7.5352e-01, 3.3371e-01, 4.2081e-01, 3.1598e-01,\n",
      "        4.8460e-01, 9.2172e-01, 3.7437e-01, 1.3929e-01, 8.7723e-01, 4.1525e-01,\n",
      "        8.2978e-01, 9.1519e-01, 4.5838e-01, 7.8849e-01, 7.7210e-01, 2.1204e-01,\n",
      "        9.6567e-01, 9.9872e-01, 1.4935e-01, 5.1135e-01, 8.8839e-01, 1.6857e-01,\n",
      "        9.8496e-01, 7.7818e-01, 9.9300e-01, 7.5388e-01, 2.3567e-01, 9.7865e-01,\n",
      "        8.8870e-01, 7.7731e-01, 1.3433e-01, 7.5267e-01, 1.3775e-01, 2.2996e-02,\n",
      "        3.1754e-01, 3.6413e-01, 9.5845e-01, 3.4390e-01, 4.1056e-01, 6.2788e-01,\n",
      "        5.2816e-01, 1.8791e-02, 6.0035e-01, 9.0923e-01, 9.6716e-01, 8.2876e-01,\n",
      "        5.3624e-01, 7.9812e-01, 5.0762e-02, 7.4318e-01, 2.1792e-01, 7.5512e-01,\n",
      "        1.0040e-01, 4.3726e-01, 9.5294e-01, 7.9368e-01, 9.5970e-01, 9.5955e-01,\n",
      "        3.9142e-04, 4.6541e-01, 1.0877e-01, 5.2054e-01, 1.0760e-01, 4.2016e-01,\n",
      "        5.7380e-01, 9.9533e-01, 6.2177e-01, 7.1683e-01, 2.6995e-01, 8.1672e-01,\n",
      "        5.3155e-01, 2.8122e-01, 9.5469e-01, 5.3413e-01, 6.7021e-01, 2.3819e-01,\n",
      "        9.0531e-01, 1.7485e-01, 1.1243e-01, 9.2049e-01, 3.2639e-01, 5.3326e-01,\n",
      "        9.2703e-01, 7.5391e-01, 6.2250e-01, 8.6631e-01, 9.5143e-01, 2.8460e-01])\n",
      "Reshape to 10xwhatever:\n",
      " tensor([[2.6052e-01, 6.9477e-01, 7.5352e-01, 3.3371e-01, 4.2081e-01, 3.1598e-01,\n",
      "         4.8460e-01, 9.2172e-01, 3.7437e-01],\n",
      "        [1.3929e-01, 8.7723e-01, 4.1525e-01, 8.2978e-01, 9.1519e-01, 4.5838e-01,\n",
      "         7.8849e-01, 7.7210e-01, 2.1204e-01],\n",
      "        [9.6567e-01, 9.9872e-01, 1.4935e-01, 5.1135e-01, 8.8839e-01, 1.6857e-01,\n",
      "         9.8496e-01, 7.7818e-01, 9.9300e-01],\n",
      "        [7.5388e-01, 2.3567e-01, 9.7865e-01, 8.8870e-01, 7.7731e-01, 1.3433e-01,\n",
      "         7.5267e-01, 1.3775e-01, 2.2996e-02],\n",
      "        [3.1754e-01, 3.6413e-01, 9.5845e-01, 3.4390e-01, 4.1056e-01, 6.2788e-01,\n",
      "         5.2816e-01, 1.8791e-02, 6.0035e-01],\n",
      "        [9.0923e-01, 9.6716e-01, 8.2876e-01, 5.3624e-01, 7.9812e-01, 5.0762e-02,\n",
      "         7.4318e-01, 2.1792e-01, 7.5512e-01],\n",
      "        [1.0040e-01, 4.3726e-01, 9.5294e-01, 7.9368e-01, 9.5970e-01, 9.5955e-01,\n",
      "         3.9142e-04, 4.6541e-01, 1.0877e-01],\n",
      "        [5.2054e-01, 1.0760e-01, 4.2016e-01, 5.7380e-01, 9.9533e-01, 6.2177e-01,\n",
      "         7.1683e-01, 2.6995e-01, 8.1672e-01],\n",
      "        [5.3155e-01, 2.8122e-01, 9.5469e-01, 5.3413e-01, 6.7021e-01, 2.3819e-01,\n",
      "         9.0531e-01, 1.7485e-01, 1.1243e-01],\n",
      "        [9.2049e-01, 3.2639e-01, 5.3326e-01, 9.2703e-01, 7.5391e-01, 6.2250e-01,\n",
      "         8.6631e-01, 9.5143e-01, 2.8460e-01]])\n"
     ]
    }
   ],
   "source": [
    "# Let us reshape our Tensor to a 2D Tensor\n",
    "print(\"Reshape to 3x30:\\n\", tensor.reshape(3, 30))\n",
    "\n",
    "# We can also use the Flatten method to convert to a 1D Tensor\n",
    "print(\"Flatten to a 1D Tensor:\\n\",tensor.flatten())\n",
    "\n",
    "# Here the -1 tells Pytorch to put as many elements as it needs here in order to maintain the given dimention sizes\n",
    "# AKA \"I don't care the size of this dimention as long as the first one is 10\"\n",
    "print(\"Reshape to 10xwhatever:\\n\",tensor.reshape(10, -1))"
   ]
  },
  {
   "cell_type": "code",
   "execution_count": 15,
   "id": "83f93500-f0d2-4f5e-99f1-aded21e82242",
   "metadata": {},
   "outputs": [
    {
     "name": "stdout",
     "output_type": "stream",
     "text": [
      "The Tensors shape is: torch.Size([3, 2])\n",
      "Add an empty dimenson to dim3: torch.Size([3, 2, 1])\n",
      "Add an empty dimenson to dim2: torch.Size([3, 1, 2])\n"
     ]
    }
   ],
   "source": [
    "# Lets create a 2D Tensor\n",
    "tensor = torch.rand(3, 2)\n",
    "\n",
    "# View the Number of elements in every dimension\n",
    "print(\"The Tensors shape is:\", tensor.shape)\n",
    "\n",
    "# Unsqueeze adds an \"empty\" dimension to our Tensor\n",
    "print(\"Add an empty dimenson to dim3:\", tensor.unsqueeze(2).shape)\n",
    "\n",
    "# Unsqueeze adds an \"empty\" dimension to our Tensor\n",
    "print(\"Add an empty dimenson to dim2:\", tensor.unsqueeze(1).shape)"
   ]
  },
  {
   "cell_type": "code",
   "execution_count": 16,
   "id": "3e4749cf-72d5-4ce2-b509-47fb3cd7541c",
   "metadata": {},
   "outputs": [
    {
     "name": "stdout",
     "output_type": "stream",
     "text": [
      "The Tensors shape is: torch.Size([1, 3, 1, 2])\n",
      "Remove empty dimenson dim3: torch.Size([1, 3, 2])\n",
      "Remove empty dimenson dim0: torch.Size([3, 1, 2])\n",
      "Remove all empty dimensons: torch.Size([3, 2])\n"
     ]
    }
   ],
   "source": [
    "\n",
    "# Lets create a 4D Tensor with a few \"empty\" dimensions\n",
    "tensor = torch.rand(1, 3, 1, 2)\n",
    "\n",
    "# view the Number of elements in every dimension\n",
    "print(\"The Tensors shape is:\", tensor.shape)\n",
    "\n",
    "# squeeze removes an \"empty\" dimension from our Tensor\n",
    "print(\"Remove empty dimenson dim3:\", tensor.squeeze(2).shape)\n",
    "\n",
    "# squeeze removes an \"empty\" dimension from our Tensor\n",
    "print(\"Remove empty dimenson dim0:\", tensor.squeeze(0).shape)\n",
    "\n",
    "# If we don't specify a dimension, squeeze will remove ALL empty dimensions\n",
    "print(\"Remove all empty dimensons:\", tensor.squeeze().shape)"
   ]
  },
  {
   "cell_type": "code",
   "execution_count": 17,
   "id": "b8eb578d-4b81-4a8f-964f-b774adbe77ee",
   "metadata": {},
   "outputs": [
    {
     "name": "stdout",
     "output_type": "stream",
     "text": [
      "Tensor 1 shape:\n",
      " torch.Size([1, 4, 3, 1])\n",
      "Tensor 2 shape:\n",
      " torch.Size([3, 4, 1, 4])\n",
      "The resulting shape is:\n",
      " torch.Size([3, 4, 3, 4])\n"
     ]
    }
   ],
   "source": [
    "# Lets create 2 differently shaped 4D Tensors (Matrices)\n",
    "tensor1 = torch.rand(1, 4, 3, 1)\n",
    "tensor2 = torch.rand(3, 4, 1, 4)\n",
    "\n",
    "print(\"Tensor 1 shape:\\n\", tensor1.shape)\n",
    "print(\"Tensor 2 shape:\\n\", tensor2.shape)\n",
    "\n",
    "tensor3 = tensor1 + tensor2\n",
    "\n",
    "print(\"The resulting shape is:\\n\", tensor3.shape)"
   ]
  },
  {
   "cell_type": "markdown",
   "id": "67d12b22-59e2-41e8-8565-1200663660b2",
   "metadata": {},
   "source": [
    "<h2>Pytorch Autograd</h2>"
   ]
  },
  {
   "cell_type": "code",
   "execution_count": 99,
   "id": "654c41e3-49e6-4f9c-a83f-c2e735132f73",
   "metadata": {},
   "outputs": [
    {
     "name": "stdout",
     "output_type": "stream",
     "text": [
      "Calculated Gradients\n",
      "dy/dx 2.0\n",
      "dy/dw 4.0\n",
      "dy/db 1.0\n"
     ]
    }
   ],
   "source": [
    "# Lets create some tensors, requires_grad tells Pytorch we want to store the gradients for this tensor\n",
    "# we need to do this if we are working with basic Pytorch tensors\n",
    "x = torch.FloatTensor([4])\n",
    "x.requires_grad = True\n",
    "w = torch.FloatTensor([2])\n",
    "w.requires_grad = True\n",
    "b = torch.FloatTensor([3])\n",
    "b.requires_grad = True\n",
    "\n",
    "# By performing a simple computation Pytorch will build a computational graph.\n",
    "y = w * x + b    # y = 2 * x + 3\n",
    "\n",
    "# It's easy to see that\n",
    "# dy/dx = w = 2\n",
    "# dy/dw = x = 4\n",
    "# dy/db = 1\n",
    "\n",
    "# Compute gradients via Pytorch's Autograd\n",
    "y.backward()\n",
    "\n",
    "# Print out the calculated gradients\n",
    "# These gradients are the gradients with respect to the point where we backprop'd from - y\n",
    "# Create your own equation and use the auto backprop to see the partial derivatives!\n",
    "print(\"Calculated Gradients\") \n",
    "print(\"dy/dx\", x.grad.item())    # x.grad = dy/dx = 2 \n",
    "print(\"dy/dw\", w.grad.item())    # w.grad = dy/dw = 4\n",
    "print(\"dy/db\", b.grad.item())   # b.grad = dy/db = 1  \n",
    "# Note: .item() simply returns a 0D Tensor as a Python scalar"
   ]
  },
  {
   "cell_type": "code",
   "execution_count": 243,
   "id": "d838634e-2789-4bd4-ba43-fef05b19c878",
   "metadata": {},
   "outputs": [
    {
     "data": {
      "text/plain": [
       "[<matplotlib.lines.Line2D at 0x17de5f200>]"
      ]
     },
     "execution_count": 243,
     "metadata": {},
     "output_type": "execute_result"
    },
    {
     "data": {
      "image/png": "[encoded data removed]",
      "text/plain": [
       "<Figure size 640x480 with 1 Axes>"
      ]
     },
     "metadata": {},
     "output_type": "display_data"
    }
   ],
   "source": [
    "# Lets find the minimum of a parabola!\n",
    "\n",
    "# Define the equation as a lambda function\n",
    "fx = lambda  x: x**2 + 1.5 * x - 1\n",
    "\n",
    "x = np.linspace(-10, 8.5, 100)\n",
    "\n",
    "plt.plot(x, fx(x))"
   ]
  },
  {
   "cell_type": "code",
   "execution_count": 245,
   "id": "4731fcd8-9d4b-408a-9ad8-0b53f0b1ad66",
   "metadata": {},
   "outputs": [
    {
     "name": "stdout",
     "output_type": "stream",
     "text": [
      "dy/dx is 4.23 when x is 1.37\n"
     ]
    }
   ],
   "source": [
    "# Create a random point X\n",
    "x_ = torch.randn(1)\n",
    "x_.requires_grad = True\n",
    "\n",
    "# Lets use Pytorch's Autograd to find the gradient at this point\n",
    "y_ = fx(x_)\n",
    "y_.backward()\n",
    "\n",
    "# The gradient tells us the direction to travel to increase Y\n",
    "dy_dx_ = x_.grad.item()\n",
    "print(\"dy/dx is %.2f when x is %.2f\" % (dy_dx_, x_))"
   ]
  },
  {
   "cell_type": "code",
   "execution_count": 344,
   "id": "c1d6c320-a988-4ab2-bfcd-7c647f4310a8",
   "metadata": {},
   "outputs": [
    {
     "name": "stdout",
     "output_type": "stream",
     "text": [
      "Y minimum is -1.56 and is when X = -0.75, found after 345 steps\n"
     ]
    }
   ],
   "source": [
    "# Lets take some steps to decend the gradient!\n",
    "\n",
    "# Create a random point X\n",
    "x_ = torch.randn(1)\n",
    "x_.requires_grad = True\n",
    "\n",
    "# Create some loggers\n",
    "x_logger = []\n",
    "y_logger = []\n",
    "\n",
    "# We'll keep track of how many steps we've done\n",
    "counter = 0\n",
    "\n",
    "# Set a scale for the step size\n",
    "learning_rate = 0.01\n",
    "\n",
    "# Initialise the gradient to a large value\n",
    "dy_dx_ = 1000\n",
    "\n",
    "# We'll limit the max number of steps so we don't create an infinite loop\n",
    "max_num_steps = 1000\n",
    "\n",
    "# Keep taking steps untill the gradient is small\n",
    "while np.abs(dy_dx_) > 0.001:\n",
    "    # Get the Y point at the current x value\n",
    "    y_ = fx(x_)\n",
    "    \n",
    "    # Calculate the gradient at this point\n",
    "    y_.backward()\n",
    "    dy_dx_ = x_.grad.item()\n",
    "\n",
    "    # Pytorch will not keep track of operations within a torch.no_grad() block\n",
    "    # We don't want Pytorch to add our gradient decent step to the computational graph!\n",
    "    with torch.no_grad():\n",
    "        # Take a step down (decend) the curve\n",
    "        x_ -= learning_rate * dy_dx_\n",
    "        \n",
    "        # Pytorch will accumulate the gradient over multiple backward passes\n",
    "        # For our use case we don't want this to happen so we need to set it to zero\n",
    "        # After we have used it\n",
    "        x_.grad.zero_()\n",
    "        \n",
    "        # Log the X and Y points to plot\n",
    "        x_logger.append(x_.item())\n",
    "        y_logger.append(y_.item())\n",
    "        \n",
    "    counter += 1\n",
    "    \n",
    "    if counter == max_num_steps:\n",
    "        break\n",
    "\n",
    "print(\"Y minimum is %.2f and is when X = %.2f, found after %d steps\" % (y_.item(), x_.item(), counter))"
   ]
  },
  {
   "cell_type": "markdown",
   "id": "e2cd0372-898a-4621-a735-fc1f706b2cc3",
   "metadata": {},
   "source": [
    "<h4>2nd problem\n",
    "</h4>"
   ]
  },
  {
   "cell_type": "code",
   "execution_count": 416,
   "id": "768b51a8-a2c9-4f30-b178-f10d2903f2e3",
   "metadata": {},
   "outputs": [
    {
     "data": {
      "text/plain": [
       "[<matplotlib.lines.Line2D at 0x17e09b650>]"
      ]
     },
     "execution_count": 416,
     "metadata": {},
     "output_type": "execute_result"
    },
    {
     "data": {
      "image/png": "[encoded data removed]",
      "text/plain": [
       "<Figure size 640x480 with 1 Axes>"
      ]
     },
     "metadata": {},
     "output_type": "display_data"
    }
   ],
   "source": [
    "fx = lambda  x: x**2 - 4\n",
    "x = np.linspace(-10, 10, 100)\n",
    "plt.plot(x, fx(x))"
   ]
  },
  {
   "cell_type": "code",
   "execution_count": 434,
   "id": "41378cae-2c8b-4372-aa5d-59eb35d02ce5",
   "metadata": {},
   "outputs": [
    {
     "name": "stdout",
     "output_type": "stream",
     "text": [
      "Y minimum is -4.00 and is when X = 0.00, found after 264 steps\n"
     ]
    }
   ],
   "source": [
    "x_ = torch.FloatTensor([0.1])\n",
    "x_.requires_grad = True\n",
    "\n",
    "x_logger = []\n",
    "y_logger = []\n",
    "counter = 0\n",
    "learning_rate = 0.01\n",
    "dy_dx_ = 1000\n",
    "max_num_steps = 1000\n",
    "\n",
    "while np.abs(dy_dx_) > 0.001:\n",
    "    y_ = fx(x_)\n",
    "    y_.backward()\n",
    "    dy_dx_ = x_.grad.item()\n",
    "    # print(x_, dy_dx_)\n",
    "    with torch.no_grad():\n",
    "        x_ -= learning_rate * dy_dx_\n",
    "        x_.grad.zero_()\n",
    "        x_logger.append(x_.item())\n",
    "        y_logger.append(y_.item())     \n",
    "    counter += 1\n",
    "    \n",
    "    if counter == max_num_steps:\n",
    "        break\n",
    "\n",
    "print(\"Y minimum is %.2f and is when X = %.2f, found after %d steps\" % (y_.item(), x_.item(), counter))"
   ]
  },
  {
   "cell_type": "markdown",
   "id": "50101e12-d504-4232-bb39-dee805ed1cf5",
   "metadata": {},
   "source": [
    "<h1>Models and Optimizers</h1>"
   ]
  },
  {
   "cell_type": "code",
   "execution_count": 460,
   "id": "c309a312-079b-4b53-b427-f8df31d6a8f6",
   "metadata": {},
   "outputs": [],
   "source": [
    "class SimpleFunction(nn.Module):\n",
    "    \"\"\"\n",
    "    Simple implementation of an nn.Module subclass\n",
    "    Takes the input (x) and returns x * 4 + 2\n",
    "    \"\"\"\n",
    "    def __init__(self):\n",
    "        # Pass our class and self to superclass and call the superclass's init function\n",
    "        super(SimpleFunction, self).__init__() \n",
    "        \n",
    "    def forward(self, x):\n",
    "        return x * 4 + 2"
   ]
  },
  {
   "cell_type": "code",
   "execution_count": 462,
   "id": "472554ec-a10b-4a8a-970c-7cf7dd5c4348",
   "metadata": {},
   "outputs": [
    {
     "name": "stdout",
     "output_type": "stream",
     "text": [
      "Class output: 42\n"
     ]
    }
   ],
   "source": [
    "# Create an instance of our class\n",
    "simple_function = SimpleFunction()\n",
    "# Perform a \"forward pass\" of our class\n",
    "output = simple_function(10)\n",
    "print(\"Class output:\", output)\n",
    "# Note we do NOT need to explicitly call the .forward() function of our class,\n",
    "# a forward pass of our models is such a common step that Pytorch makes it easier and cleaner for us to do"
   ]
  },
  {
   "cell_type": "markdown",
   "id": "7618b859-3cca-41c1-b6ee-4e04ca9361af",
   "metadata": {},
   "source": [
    "<h4>\n",
    "A more complicated model</h4>"
   ]
  },
  {
   "cell_type": "code",
   "execution_count": 464,
   "id": "8480e194-cb58-433f-87ba-b9725bbc690f",
   "metadata": {},
   "outputs": [],
   "source": [
    "class LinearModel(nn.Module):\n",
    "    \"\"\"\n",
    "    Takes the input (x) and returns x * w^t + b\n",
    "    \"\"\"\n",
    "    def __init__(self, input_size, output_size):\n",
    "        # Pass our class and self to superclass and call the superclass's init function\n",
    "        super(LinearModel, self).__init__() \n",
    "        # nn.Parameter wraps our normal tensors and \"tells\" Pytorch\n",
    "        # that they are our nn.Module's model parameters to be optimized \n",
    "        self.w = nn.Parameter(torch.randn(output_size, input_size))\n",
    "        self.b = nn.Parameter(torch.randn(1, output_size))\n",
    "\n",
    "    def forward(self, x):\n",
    "        return torch.matmul(x,  self.w.t()) + self.b"
   ]
  },
  {
   "cell_type": "code",
   "execution_count": 466,
   "id": "2dd13f25-35bf-40f1-b5f5-2d5c67a27019",
   "metadata": {},
   "outputs": [
    {
     "name": "stdout",
     "output_type": "stream",
     "text": [
      "torch.Size([10, 1])\n",
      "tensor([[ 1.2334],\n",
      "        [ 2.3355],\n",
      "        [ 0.3967],\n",
      "        [-4.9803],\n",
      "        [ 0.0487],\n",
      "        [ 1.9535],\n",
      "        [ 0.8887],\n",
      "        [ 2.0123],\n",
      "        [ 4.1062],\n",
      "        [-1.8578]])\n"
     ]
    }
   ],
   "source": [
    "# Create a batch of 10 datapoints each 5D\n",
    "input_data = torch.randn(10, 5)\n",
    "\n",
    "# Create an instance of our Model\n",
    "linear_model = LinearModel(5, 1)\n",
    "\n",
    "# Perform a forward pass!\n",
    "output = linear_model(input_data)\n",
    "\n",
    "print(output.shape)\n",
    "print(output.detach())\n",
    "# Note: detach \"disconnects\" the tensor and returns it with no history of previous calculations"
   ]
  },
  {
   "cell_type": "markdown",
   "id": "90cd1779-95ca-4038-8ca2-b96e4b752e50",
   "metadata": {},
   "source": [
    "<h1>Pytorch inbuilt Neural Network Layers</h1>"
   ]
  },
  {
   "cell_type": "code",
   "execution_count": 473,
   "id": "2cee59b4-72fa-467d-9bed-a5a485c39cb8",
   "metadata": {},
   "outputs": [
    {
     "name": "stdout",
     "output_type": "stream",
     "text": [
      "w:\n",
      " tensor([[0.2916, 0.1142, 0.2975]])\n",
      "b:\n",
      " tensor([0.2881])\n",
      "w shape:\n",
      " torch.Size([1, 3])\n",
      "b shape:\n",
      " torch.Size([1])\n"
     ]
    }
   ],
   "source": [
    "# Build a linear layer aka a \"fully connected\" layer aka a \"Perceptron\" layer\n",
    "# nn.Linear(Number of inputs, Number of outputs) \n",
    "linear = nn.Linear(3, 1) \n",
    "\n",
    "# Lets have a look at the parameters of this layer\n",
    "# The \"weights\" are what is multipied by the input data\n",
    "print ('w:\\n', linear.weight.data)\n",
    "# The bias is then added on!\n",
    "print ('b:\\n', linear.bias.data)\n",
    "\n",
    "print ('w shape:\\n', linear.weight.data.shape)\n",
    "print ('b shape:\\n', linear.bias.data.shape)\n",
    "# Note: .data just gives us the raw Tensor without any connection to the computational graph\n",
    "# - it looks nicer when we print it out\n",
    "# Note: The opperation the linear layer performs is y = x*A^t + b\n",
    "# where A^t is the transpose of the weights and b is the bias,\n",
    "# this opperation is also know as an \"affine transformation\""
   ]
  },
  {
   "cell_type": "code",
   "execution_count": 475,
   "id": "e972c42b-919a-4ed8-8692-c57872d6a4f6",
   "metadata": {},
   "outputs": [
    {
     "name": "stdout",
     "output_type": "stream",
     "text": [
      "w:\n",
      " None\n",
      "b:\n",
      " None\n"
     ]
    }
   ],
   "source": [
    "# Lets have a look at the gradients of these parameters\n",
    "print ('w:\\n', linear.weight.grad)\n",
    "print ('b:\\n', linear.bias.grad)\n",
    "# Note: Pytorch initialises the grad of the tensors to \"None\" NOT 0!\n",
    "# They only get created after the first backwards pass."
   ]
  },
  {
   "cell_type": "code",
   "execution_count": 477,
   "id": "5a4a1fdd-b870-4ae6-ace3-c6472632e2c4",
   "metadata": {},
   "outputs": [
    {
     "name": "stdout",
     "output_type": "stream",
     "text": [
      "Input data:\n",
      " tensor([[-0.2016,  0.7550,  0.8988],\n",
      "        [-0.8162,  1.5265,  0.0106],\n",
      "        [-0.3760, -0.9881, -1.3309],\n",
      "        [-0.5065,  0.8188, -0.8931],\n",
      "        [ 0.5092,  0.3131, -0.2351],\n",
      "        [-0.3524,  0.1212, -2.8024],\n",
      "        [ 2.3378, -0.7127,  1.1511],\n",
      "        [ 0.7416, -0.7286,  0.4550],\n",
      "        [-1.0011,  0.9058, -1.2112],\n",
      "        [ 0.3714, -0.3719, -0.3762]])\n",
      "Output data:\n",
      " tensor([[ 1.4548],\n",
      "        [ 0.7179],\n",
      "        [-2.7138],\n",
      "        [-0.6159],\n",
      "        [ 0.5922],\n",
      "        [-3.0365],\n",
      "        [ 2.7916],\n",
      "        [ 0.4691],\n",
      "        [-1.2920],\n",
      "        [-0.3702]])\n"
     ]
    }
   ],
   "source": [
    "# Create a random data input tensor\n",
    "data = torch.randn(100, 3)\n",
    "# Create some noisey target data\n",
    "target = data.sum(1, keepdims=True) + 0.01*torch.randn(data.shape[0], 1)\n",
    "print ('Input data:\\n', data[:10])\n",
    "print ('Output data:\\n', target[:10])"
   ]
  },
  {
   "cell_type": "code",
   "execution_count": 484,
   "id": "e26fa6da-5881-48e1-af68-1c5ef8e47509",
   "metadata": {},
   "outputs": [
    {
     "name": "stdout",
     "output_type": "stream",
     "text": [
      "Network output:\n",
      " tensor([[ 0.5829],\n",
      "        [ 0.2276],\n",
      "        [-0.3305],\n",
      "        [-0.0318],\n",
      "        [ 0.4023],\n",
      "        [-0.6347],\n",
      "        [ 1.2308],\n",
      "        [ 0.5565],\n",
      "        [-0.2608],\n",
      "        [ 0.2419]])\n",
      "Network output shape: torch.Size([100, 1])\n"
     ]
    }
   ],
   "source": [
    "# Remember! To perform a forward pass of our model, we just need to \"call\" our network\n",
    "# Pytorch's nn.Module class will automatically pass it to the \"forward\" function in the layer class\n",
    "target_pred = linear(data)\n",
    "print(\"Network output:\\n\", target_pred.data[:10])\n",
    "print(\"Network output shape:\", target_pred.shape)"
   ]
  },
  {
   "cell_type": "markdown",
   "id": "9ac3b717-4399-4a91-b282-4bf09c393f7e",
   "metadata": {},
   "source": [
    "<h1>Loss Functions and Optimizers</h1>"
   ]
  },
  {
   "cell_type": "code",
   "execution_count": 487,
   "id": "4270949a-6919-4460-9403-b3d78d341c20",
   "metadata": {},
   "outputs": [],
   "source": [
    "# Lets perform a regression with a mean square error loss\n",
    "loss_function = nn.MSELoss()\n",
    "\n",
    "# Lets create a Stochastic gradient descent optimizer with a learning rate of 0.01\n",
    "# (the way we will be using it, it is just normal GD) \n",
    "# When we create the optimizer we need to tell it WHAT it needs to optimize, so the first thing \n",
    "# We pass it are the linear layer's \"parameters\"\n",
    "optimizer = torch.optim.SGD(linear.parameters(), lr=0.01) "
   ]
  },
  {
   "cell_type": "code",
   "execution_count": 489,
   "id": "374c8b93-0162-455a-aad2-0c6721f3810b",
   "metadata": {},
   "outputs": [
    {
     "data": {
      "text/plain": [
       "Text(0, 0.5, 'Ouputs')"
      ]
     },
     "execution_count": 489,
     "metadata": {},
     "output_type": "execute_result"
    },
    {
     "data": {
      "image/png": "[encoded data removed]",
      "text/plain": [
       "<Figure size 640x480 with 1 Axes>"
      ]
     },
     "metadata": {},
     "output_type": "display_data"
    }
   ],
   "source": [
    "# Plotting the first dimension of the input vs the output\n",
    "\n",
    "# Use the outputs of the model from a few cells ago\n",
    "plt.scatter(data[:, 0], target_pred.detach())\n",
    "# Use the Ground Truth data\n",
    "plt.scatter(data[:, 0], target, marker=\"x\")\n",
    "plt.legend([\"Predictions\", \"Ground Truth Data\"])\n",
    "plt.xlabel(\"Inputs\")\n",
    "plt.ylabel(\"Ouputs\")"
   ]
  },
  {
   "cell_type": "code",
   "execution_count": 491,
   "id": "37d256b9-1d21-46ca-9aee-5fc8d0876b0d",
   "metadata": {},
   "outputs": [
    {
     "name": "stdout",
     "output_type": "stream",
     "text": [
      "loss: 1.8865187168121338\n"
     ]
    }
   ],
   "source": [
    "loss = loss_function(target_pred, target)\n",
    "print('loss:', loss.item())"
   ]
  },
  {
   "cell_type": "code",
   "execution_count": 493,
   "id": "ef4f6822-37e7-4bea-addf-017405127b15",
   "metadata": {},
   "outputs": [
    {
     "name": "stdout",
     "output_type": "stream",
     "text": [
      "dL/dw:  tensor([[-1.2644, -1.5787, -1.7881]])\n",
      "dL/db:  tensor([0.7832])\n"
     ]
    }
   ],
   "source": [
    "# Backward pass.\n",
    "loss.backward()\n",
    "# Print out the gradients.\n",
    "print ('dL/dw: ', linear.weight.grad) \n",
    "print ('dL/db: ', linear.bias.grad)\n",
    "# Note for every backwards pass of the model we must first perform a forward pass\n",
    "# as data from parts of the computational graph have been deleted upon the backward pass to save memory.\n",
    "# We can tell Pytorch to hold onto this data, but, in many cases it needs to be recalculated anyway"
   ]
  },
  {
   "cell_type": "code",
   "execution_count": 495,
   "id": "d0f4bca0-dd49-4396-93f8-2f3bb493c34b",
   "metadata": {},
   "outputs": [
    {
     "name": "stdout",
     "output_type": "stream",
     "text": [
      "loss after 1 step optimization:  1.8083490133285522\n"
     ]
    }
   ],
   "source": [
    "# he critical step to update the parameter which reduce the loss\n",
    "optimizer.step()\n",
    "\n",
    "# Perform another forward pass of the model to check the new loss\n",
    "target_pred = linear(data)\n",
    "loss = loss_function(target_pred, target)\n",
    "print('loss after 1 step optimization: ', loss.item())"
   ]
  },
  {
   "cell_type": "code",
   "execution_count": 497,
   "id": "3538bc6a-1afd-4158-b13d-8b8df0f00077",
   "metadata": {},
   "outputs": [
    {
     "name": "stdout",
     "output_type": "stream",
     "text": [
      "loss: 0.0001003822690108791\n"
     ]
    }
   ],
   "source": [
    "# Lets create an empty array to log the loss\n",
    "loss_logger = []\n",
    "\n",
    "# Lets perform 100 itterations of our dataset\n",
    "for i in range(1000):\n",
    "    # Perform a forward pass of our data\n",
    "    target_pred = linear(data)\n",
    "    \n",
    "    # Calculate the loss\n",
    "    loss = loss_function(target_pred, target)\n",
    "    \n",
    "    # .zero_grad sets the stored gradients to 0\n",
    "    # If we didn't do this they would be added to the \n",
    "    # Gradients from the previous step!\n",
    "    optimizer.zero_grad()\n",
    "    \n",
    "    # Calculate the new gradients\n",
    "    loss.backward()\n",
    "    \n",
    "    # Perform an optimization step!\n",
    "    optimizer.step()\n",
    "\n",
    "    loss_logger.append(loss.item())\n",
    "    \n",
    "print(\"loss:\", loss.item())"
   ]
  },
  {
   "cell_type": "code",
   "execution_count": 499,
   "id": "ecf64014-c24e-471b-b12c-9c8604fc2e54",
   "metadata": {},
   "outputs": [
    {
     "data": {
      "text/plain": [
       "[<matplotlib.lines.Line2D at 0x17ea14380>]"
      ]
     },
     "execution_count": 499,
     "metadata": {},
     "output_type": "execute_result"
    },
    {
     "data": {
      "image/png": "[encoded data removed]",
      "text/plain": [
       "<Figure size 640x480 with 1 Axes>"
      ]
     },
     "metadata": {},
     "output_type": "display_data"
    }
   ],
   "source": [
    "plt.plot(loss_logger)"
   ]
  },
  {
   "cell_type": "code",
   "execution_count": 507,
   "id": "93c2bee1-8afb-4fcc-9e21-234ccf1429df",
   "metadata": {},
   "outputs": [
    {
     "data": {
      "text/plain": [
       "Text(0, 0.5, 'Ouputs')"
      ]
     },
     "execution_count": 507,
     "metadata": {},
     "output_type": "execute_result"
    },
    {
     "data": {
      "image/png": "[encoded data removed]",
      "text/plain": [
       "<Figure size 640x480 with 1 Axes>"
      ]
     },
     "metadata": {},
     "output_type": "display_data"
    }
   ],
   "source": [
    "# Plotting the first dimension of the input vs the output\n",
    "plt.scatter(data[:, 0], target_pred.detach())\n",
    "plt.scatter(data[:, 0], target, marker=\"x\")\n",
    "plt.legend([\"Predictions\", \"Ground Truth\"])\n",
    "plt.xlabel(\"Inputs\")\n",
    "plt.ylabel(\"Ouputs\")"
   ]
  },
  {
   "cell_type": "code",
   "execution_count": null,
   "id": "82fe012f-61ba-48fb-bdff-0e77dac0f617",
   "metadata": {},
   "outputs": [],
   "source": []
  },
  {
   "cell_type": "code",
   "execution_count": null,
   "id": "1f47dc41-1662-4542-a516-a7a1846946ef",
   "metadata": {},
   "outputs": [],
   "source": []
  },
  {
   "cell_type": "code",
   "execution_count": null,
   "id": "62f93e5b-988a-48b1-8690-03200ffc62ca",
   "metadata": {},
   "outputs": [],
   "source": []
  }
 ],
 "metadata": {
  "kernelspec": {
   "display_name": "Python 3 (ipykernel)",
   "language": "python",
   "name": "python3"
  },
  "language_info": {
   "codemirror_mode": {
    "name": "ipython",
    "version": 3
   },
   "file_extension": ".py",
   "mimetype": "text/x-python",
   "name": "python",
   "nbconvert_exporter": "python",
   "pygments_lexer": "ipython3",
   "version": "3.12.4"
  }
 },
 "nbformat": 4,
 "nbformat_minor": 5
}
